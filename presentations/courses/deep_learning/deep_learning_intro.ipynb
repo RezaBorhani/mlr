{
 "cells": [
  {
   "cell_type": "markdown",
   "metadata": {
    "slideshow": {
     "slide_type": "slide"
    }
   },
   "source": [
    "# EECS 395, 495\n",
    "# DEEP LEARNING FOUNDATIONS FROM SCRATCH\n",
    "\n",
    "## Jeremy Watt with Reza Borhani\n"
   ]
  },
  {
   "cell_type": "markdown",
   "metadata": {
    "slideshow": {
     "slide_type": "slide"
    }
   },
   "source": [
    "# About us"
   ]
  },
  {
   "cell_type": "markdown",
   "metadata": {
    "collapsed": true,
    "slideshow": {
     "slide_type": "subslide"
    }
   },
   "source": [
    "<p><img src= \"../../../mlrefined_images/presentation_images/NU_logo.png\" width=\"30%\" height=\"auto\"/></p>\n",
    "  <p>\n",
    "   &nbsp;&nbsp; - Adjunct Professors in EECS department \n",
    "   <br/>\n",
    "  <br/>\n",
    "   &nbsp;&nbsp; - where we both earned our PhDs\n",
    "  </p>"
   ]
  },
  {
   "cell_type": "markdown",
   "metadata": {
    "collapsed": true,
    "slideshow": {
     "slide_type": "subslide"
    }
   },
   "source": [
    "  <p>\n",
    "  <img src= \"../../../mlrefined_images/presentation_images/mlrefined_logo.png\" width=\"20%\" height=\"auto\"/> \n",
    "  </p>\n",
    "  <p>\n",
    "  &nbsp;&nbsp; - Authors of Machine Learning Refined (Cambridge University Press) - www.mlrefined.com\n",
    "  <br/>\n",
    "  <br/>\n",
    "  &nbsp;&nbsp; - Used in EECS 396, 496: Machine Learning: Foundations, Applications, and Algorithms\n",
    "  <br/>\n",
    "  <br/>\n",
    "  &nbsp;&nbsp; - Notes from this class based on *new* material for 2nd edition!\n",
    "\n",
    "  </p>"
   ]
  },
  {
   "cell_type": "markdown",
   "metadata": {
    "collapsed": true,
    "slideshow": {
     "slide_type": "subslide"
    }
   },
   "source": [
    "  <p>\n",
    "  <img src= \"../../../mlrefined_images/presentation_images/dg6_logo.png\" width=\"20%\" height=\"auto\"> \n",
    "  </p>\n",
    "  <p>\n",
    " &nbsp;&nbsp; - Owners of local deep learning consultancy Degree Six - www.dgsix.com\n",
    "  <br/>\n",
    "  <br/>\n",
    " &nbsp;&nbsp; - We help everyone from startups to established businesses develop AI-fueled products and build machine learning / deep learning teams\n",
    "  </p>"
   ]
  },
  {
   "cell_type": "markdown",
   "metadata": {
    "slideshow": {
     "slide_type": "slide"
    }
   },
   "source": [
    "# About the course"
   ]
  },
  {
   "cell_type": "markdown",
   "metadata": {
    "slideshow": {
     "slide_type": "subslide"
    }
   },
   "source": [
    "# What is deep learning all about?"
   ]
  },
  {
   "cell_type": "markdown",
   "metadata": {
    "slideshow": {
     "slide_type": "fragment"
    }
   },
   "source": [
    "- A natural compositional way of encoding general nonlinearity for machine learning tasks"
   ]
  },
  {
   "cell_type": "markdown",
   "metadata": {
    "slideshow": {
     "slide_type": "fragment"
    }
   },
   "source": [
    "    - e.g., for supervised learning needed because standard linear classifier is limited"
   ]
  },
  {
   "cell_type": "markdown",
   "metadata": {
    "slideshow": {
     "slide_type": "subslide"
    }
   },
   "source": [
    "<p>  \n",
    "<img src= \"../../../mlrefined_images/presentation_images/twoclass_linear.png\",style=border:0px;margin:0px;float:left;width:1400px;> \n",
    "</p>"
   ]
  },
  {
   "cell_type": "markdown",
   "metadata": {
    "slideshow": {
     "slide_type": "subslide"
    }
   },
   "source": [
    "<p>  \n",
    "<img src= \"../../../mlrefined_images/presentation_images/twoclass_nonlinear.png\",style=border:0px;margin:0px;float:left;width:1400px;> \n",
    "</p>"
   ]
  },
  {
   "cell_type": "markdown",
   "metadata": {
    "slideshow": {
     "slide_type": "subslide"
    }
   },
   "source": [
    "<p>  \n",
    "<img src= \"../../../mlrefined_images/presentation_images/multiclass_linear.png\",style=border:0px;margin:0px;float:left;width:1400px;> \n",
    "</p>"
   ]
  },
  {
   "cell_type": "markdown",
   "metadata": {
    "slideshow": {
     "slide_type": "subslide"
    }
   },
   "source": [
    "<p>  \n",
    "<img src= \"../../../mlrefined_images/presentation_images/multiclass_nonlinear.png\",style=border:0px;margin:0px;float:left;width:1400px;> \n",
    "</p>"
   ]
  },
  {
   "cell_type": "markdown",
   "metadata": {
    "slideshow": {
     "slide_type": "subslide"
    }
   },
   "source": [
    "# What is deep learning all about?\n",
    "\n",
    "- A natural compositional way of encoding general nonlinearity for machine learning tasks\n",
    "\n",
    "    - e.g., for supervised learning, standard linear classifier is limited"
   ]
  },
  {
   "cell_type": "markdown",
   "metadata": {
    "slideshow": {
     "slide_type": "fragment"
    }
   },
   "source": [
    "    - e.g., for general reinforcement tasks (like game AI)"
   ]
  },
  {
   "cell_type": "markdown",
   "metadata": {
    "slideshow": {
     "slide_type": "subslide"
    }
   },
   "source": [
    "<p><img src=\"../../../mlrefined_images/RL_images/lunar_lander.gif\" width=\"1400\" height=\"1400\"></p>"
   ]
  },
  {
   "cell_type": "markdown",
   "metadata": {
    "slideshow": {
     "slide_type": "subslide"
    }
   },
   "source": [
    "<p><img src=\"../../../mlrefined_images/RL_images/looping_pacman.gif\" width=\"1400\" height=\"1400\"></p>"
   ]
  },
  {
   "cell_type": "markdown",
   "metadata": {
    "slideshow": {
     "slide_type": "subslide"
    }
   },
   "source": [
    "# What is deep learning all about?\n",
    "\n",
    "- A natural compositional way of encoding general nonlinearity for machine learning tasks\n",
    "\n",
    "    - e.g., for supervised learning, standard linear classifier is limited\n",
    "    \n",
    "    - e.g., for general reinforcement tasks (like game AI)"
   ]
  },
  {
   "cell_type": "markdown",
   "metadata": {
    "slideshow": {
     "slide_type": "fragment"
    }
   },
   "source": [
    "- natural way to leverage certain types of *structured data* "
   ]
  },
  {
   "cell_type": "markdown",
   "metadata": {
    "slideshow": {
     "slide_type": "subslide"
    }
   },
   "source": [
    "<p><img src=\"../../../mlrefined_images/presentation_images/seven.gif\" width=\"1400\" height=\"1400\"></p>"
   ]
  },
  {
   "cell_type": "markdown",
   "metadata": {
    "slideshow": {
     "slide_type": "subslide"
    }
   },
   "source": [
    "# <p><img src=\"../../../mlrefined_images/presentation_images/time.gif\" width=\"1400\" height=\"1400\"></p>"
   ]
  },
  {
   "cell_type": "markdown",
   "metadata": {
    "slideshow": {
     "slide_type": "subslide"
    }
   },
   "source": [
    "# What is deep learning all about?\n",
    "\n",
    "- A natural compositional way of encoding general nonlinearity for machine learning tasks\n",
    "\n",
    "    - e.g., for supervised learning, standard linear classifier is limited\n",
    "    \n",
    "    - e.g., for general reinforcement tasks (like game AI)\n",
    "    \n",
    "- natural way to leverage certain types of *structured data* "
   ]
  },
  {
   "cell_type": "markdown",
   "metadata": {
    "slideshow": {
     "slide_type": "fragment"
    }
   },
   "source": [
    "- because of this, provides cutting edge results for a range of applications including"
   ]
  },
  {
   "cell_type": "markdown",
   "metadata": {
    "slideshow": {
     "slide_type": "subslide"
    }
   },
   "source": [
    "**Computer vision applications like object detection**\n",
    "\n",
    "<p><img src=\"../../../mlrefined_images/presentation_images/face_detect.png\" width=\"1400\" height=\"1400\"></p>"
   ]
  },
  {
   "cell_type": "markdown",
   "metadata": {
    "slideshow": {
     "slide_type": "subslide"
    }
   },
   "source": [
    "<p><img src=\"../../../mlrefined_images/presentation_images/auto_drive.png\" width=\"1400\" height=\"1400\"></p>"
   ]
  },
  {
   "cell_type": "markdown",
   "metadata": {
    "slideshow": {
     "slide_type": "subslide"
    }
   },
   "source": [
    "**Speech recognition**\n",
    "\n",
    "<p><img src=\"../../../mlrefined_images/presentation_images/speech_recog.png\" width=\"1400\" height=\"1400\"></p>"
   ]
  },
  {
   "cell_type": "markdown",
   "metadata": {
    "slideshow": {
     "slide_type": "subslide"
    }
   },
   "source": [
    "**Reinforcement**\n",
    "<p><img src=\"../../../mlrefined_images/RL_images/looping_pacman.gif\" width=\"1400\" height=\"1400\"></p>"
   ]
  },
  {
   "cell_type": "markdown",
   "metadata": {
    "slideshow": {
     "slide_type": "slide"
    }
   },
   "source": [
    "# Course topics"
   ]
  },
  {
   "cell_type": "markdown",
   "metadata": {
    "slideshow": {
     "slide_type": "subslide"
    }
   },
   "source": [
    "# Course topics"
   ]
  },
  {
   "cell_type": "markdown",
   "metadata": {
    "collapsed": true,
    "slideshow": {
     "slide_type": "fragment"
    }
   },
   "source": [
    "1) **First order optimization techniques**\n",
    "    - normalized / unnormalized gradient descent, stochastic descent"
   ]
  },
  {
   "cell_type": "markdown",
   "metadata": {
    "slideshow": {
     "slide_type": "fragment"
    }
   },
   "source": [
    "2)  **Linear supervised learning**\n",
    "    - linear regression, linear two-class classification (logistic regression), multiclass softmax regression"
   ]
  },
  {
   "cell_type": "markdown",
   "metadata": {
    "slideshow": {
     "slide_type": "fragment"
    }
   },
   "source": [
    "3)  **Nonlinear supervised learning**\n",
    "    - General nonlinear comparison / intro to function approximation\n",
    "    - Basics of kernels (why they fail) and feedforward nets\n",
    "    - Tricks for feedforward nets: momentum, regularization for convexity, etc.,\n",
    "    - Basic concept of automatic differentiation / backprop\n",
    "    - Cross-validation basics"
   ]
  },
  {
   "cell_type": "markdown",
   "metadata": {
    "collapsed": true,
    "slideshow": {
     "slide_type": "subslide"
    }
   },
   "source": [
    " 4) **Reinforcement Learning**\n",
    "    - Basic Q-Learning, with function approximators ('Deep Q-Learning')\n",
    "    - Policy gradient method"
   ]
  },
  {
   "cell_type": "markdown",
   "metadata": {
    "slideshow": {
     "slide_type": "fragment"
    }
   },
   "source": [
    " 5) **Recurrent networks**\n",
    "    - Recurrent sequences, recursive functions, lazy feedforward network approach\n",
    "    - Simple recurrent networks, LSTM / GRUs\n",
    "    - Applications in e.g., natural language processing"
   ]
  },
  {
   "cell_type": "markdown",
   "metadata": {
    "slideshow": {
     "slide_type": "fragment"
    }
   },
   "source": [
    " 6) **convolutional networks**\n",
    "    - Convolutions, edge detection, histogram features and pooling\n",
    "    - From fixed feature extractors to convolutional network\n",
    "    - Modern architectures\n",
    "    - Applications in e.g., computer vision, reinforcement"
   ]
  },
  {
   "cell_type": "markdown",
   "metadata": {
    "collapsed": true,
    "slideshow": {
     "slide_type": "slide"
    }
   },
   "source": [
    "# Logistics"
   ]
  },
  {
   "cell_type": "markdown",
   "metadata": {
    "collapsed": true,
    "slideshow": {
     "slide_type": "subslide"
    }
   },
   "source": [
    "# Logistics"
   ]
  },
  {
   "cell_type": "markdown",
   "metadata": {
    "slideshow": {
     "slide_type": "fragment"
    }
   },
   "source": [
    "- All **slides and notes** will be posted to https://jermwatt.github.io/mlrefined\n",
    "    - pull this repo and keep it up to date "
   ]
  },
  {
   "cell_type": "markdown",
   "metadata": {
    "slideshow": {
     "slide_type": "fragment"
    }
   },
   "source": [
    "- We may use a Piazza page for **class forum discussion**"
   ]
  },
  {
   "cell_type": "markdown",
   "metadata": {
    "slideshow": {
     "slide_type": "fragment"
    }
   },
   "source": [
    "- **Office hours:** 12 - 1pm Mon/Wed in Annenberg Hall room G21 (starting second week of class)"
   ]
  },
  {
   "cell_type": "markdown",
   "metadata": {
    "slideshow": {
     "slide_type": "fragment"
    }
   },
   "source": [
    "- **Assignments:** 5 homeworks (75% of final grade), 1 individual project (25% of final grade)\n",
    "    - All assignments must be completed using Python 3 Jupyter notebooks, turned in on canvas (no hard copy)\n",
    "    - Late homework = 1% off every hour late starting at end of due class"
   ]
  },
  {
   "cell_type": "markdown",
   "metadata": {
    "slideshow": {
     "slide_type": "subslide"
    }
   },
   "source": [
    "## From scratch"
   ]
  },
  {
   "cell_type": "markdown",
   "metadata": {
    "slideshow": {
     "slide_type": "fragment"
    }
   },
   "source": [
    "- Main coding for exercises (approx 70%) will be done 'by hand' using only an automatic differentiator"
   ]
  },
  {
   "cell_type": "markdown",
   "metadata": {
    "slideshow": {
     "slide_type": "fragment"
    }
   },
   "source": [
    "- We will use keras (a deep learning library) mainly for more complicated architectures (e.g., complex conv nets) "
   ]
  },
  {
   "cell_type": "markdown",
   "metadata": {
    "slideshow": {
     "slide_type": "fragment"
    }
   },
   "source": [
    "- We will also use it as a point of comparison - e.g., you will write program and compare it to standard library functionality"
   ]
  },
  {
   "cell_type": "markdown",
   "metadata": {
    "slideshow": {
     "slide_type": "fragment"
    }
   },
   "source": [
    " - **no more black box** - you will see that in fact you can code-up a good chunk of deep learning algorithms yourself!"
   ]
  },
  {
   "cell_type": "markdown",
   "metadata": {
    "slideshow": {
     "slide_type": "slide"
    }
   },
   "source": [
    "# Prerequisites"
   ]
  },
  {
   "cell_type": "markdown",
   "metadata": {
    "slideshow": {
     "slide_type": "subslide"
    }
   },
   "source": [
    "# Prerequisites"
   ]
  },
  {
   "cell_type": "markdown",
   "metadata": {
    "slideshow": {
     "slide_type": "fragment"
    }
   },
   "source": [
    "- **Expert Google-ing skills**\n",
    "    - You understand how to / the value of Google and Stack overflow"
   ]
  },
  {
   "cell_type": "markdown",
   "metadata": {
    "slideshow": {
     "slide_type": "fragment"
    }
   },
   "source": [
    "- **Basic familiarity with Linear Algebra and Calculus**\n",
    "    - We **will** not review (see blog posts if needed)"
   ]
  },
  {
   "cell_type": "markdown",
   "metadata": {
    "slideshow": {
     "slide_type": "fragment"
    }
   },
   "source": [
    "- **Basic familiarity with fundamental machine learning concepts**\n",
    "    - We **will** review as we go along, so OK if rusty"
   ]
  },
  {
   "cell_type": "markdown",
   "metadata": {
    "slideshow": {
     "slide_type": "fragment"
    }
   },
   "source": [
    "- **Strong familiarity with the Python programming language**\n",
    "    - functions / classes (i.e,. basic familiarity with object oriented programming)\n",
    "    - We **will not** review, play catch-up: e.g., https://www.codecademy.com/ "
   ]
  },
  {
   "cell_type": "markdown",
   "metadata": {
    "slideshow": {
     "slide_type": "subslide"
    }
   },
   "source": [
    "- **Familiarity with using Jupyter notebook enviro for prototyping**\n",
    "    - If unfamiliar easy to catch-up: see e.g., https://www.youtube.com/watch?v=HW29067qVWk&t=639s"
   ]
  },
  {
   "cell_type": "markdown",
   "metadata": {
    "slideshow": {
     "slide_type": "fragment"
    }
   },
   "source": [
    "- **Familiarity with github**\n",
    "    - if unfamiliar, make yourself an account and easy catch-up: see e.g., https://www.youtube.com/watch?v=SWYqp7iY_Tc"
   ]
  }
 ],
 "metadata": {
  "celltoolbar": "Slideshow",
  "kernelspec": {
   "display_name": "Python 3",
   "language": "python",
   "name": "python3"
  },
  "language_info": {
   "codemirror_mode": {
    "name": "ipython",
    "version": 3
   },
   "file_extension": ".py",
   "mimetype": "text/x-python",
   "name": "python",
   "nbconvert_exporter": "python",
   "pygments_lexer": "ipython3",
   "version": "3.5.0"
  },
  "toc": {
   "colors": {
    "hover_highlight": "#DAA520",
    "navigate_num": "#000000",
    "navigate_text": "#333333",
    "running_highlight": "#FF0000",
    "selected_highlight": "#FFD700",
    "sidebar_border": "#EEEEEE",
    "wrapper_background": "#FFFFFF"
   },
   "moveMenuLeft": true,
   "nav_menu": {
    "height": "120px",
    "width": "252px"
   },
   "navigate_menu": true,
   "number_sections": false,
   "sideBar": true,
   "threshold": 4,
   "toc_cell": false,
   "toc_section_display": "block",
   "toc_window_display": false,
   "widenNotebook": false
  },
  "widgets": {
   "application/vnd.jupyter.widget-state+json": {
    "state": {},
    "version_major": 1,
    "version_minor": 0
   }
  }
 },
 "nbformat": 4,
 "nbformat_minor": 2
}

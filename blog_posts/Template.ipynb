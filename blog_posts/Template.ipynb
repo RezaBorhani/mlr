{
 "cells": [
  {
   "cell_type": "markdown",
   "metadata": {},
   "source": [
    "##  Series title goes here"
   ]
  },
  {
   "cell_type": "markdown",
   "metadata": {},
   "source": [
    "#  Notebook title goes here"
   ]
  },
  {
   "cell_type": "markdown",
   "metadata": {},
   "source": [
    "### Equation\n",
    "\n",
    "<p>$$y=f(x)$$</p>"
   ]
  },
  {
   "cell_type": "markdown",
   "metadata": {},
   "source": [
    "### Text box\n",
    "\n",
    ">By running through a large number of episodes (and so through as many state/action pairs as many times as possible) and updating $Q$ at each step using the recursive definition, we learn $Q$ by trial-and-error interactions with the environment."
   ]
  },
  {
   "cell_type": "markdown",
   "metadata": {},
   "source": [
    "### Random local search\n",
    "\n",
    "<hr style=\"height:1px;border:none;color:#555;background-color:#555;\">\n",
    "<p style=\"line-height: 1.7;\">\n",
    "<strong>1:</strong>&nbsp;&nbsp; **Input:** initial point $\\mathbf{w}^0$, maximum number of steps $K$, number of random samples per step $P$ <br>\n",
    "\n",
    "\n",
    "<strong>2:</strong>&nbsp;&nbsp; <code>for</code> $\\,\\,k = 1...K$<br>\n",
    "\n",
    "\n",
    "<strong>3:</strong>&nbsp;&nbsp;&nbsp;&nbsp;&nbsp;&nbsp;&nbsp;&nbsp;&nbsp;&nbsp; <code>for</code> $p=1...P$ <br>\n",
    "\n",
    "\n",
    "\n",
    "<strong>4:</strong>&nbsp;&nbsp;&nbsp;&nbsp;&nbsp;&nbsp;&nbsp;&nbsp;&nbsp;&nbsp;&nbsp;&nbsp;&nbsp;&nbsp;&nbsp;&nbsp; <code>compute</code> random direction $\\mathbf{d}^p$, form candidate point $\\mathbf{w}^{k-1} + \\mathbf{d}^p$ <br>\n",
    "\n",
    "\n",
    "\n",
    "<strong>5:</strong>&nbsp;&nbsp;&nbsp;&nbsp;&nbsp;&nbsp;&nbsp;&nbsp;&nbsp;&nbsp; <code>set</code> $s = \\underset{p=1...P}{\\text{argmin}}\\,\\,g\\left(\\mathbf{w}^{k-1} + \\mathbf{d}^p\\right)$, and $\\mathbf{d}^{k} = \\mathbf{d}^{s}$<br>\n",
    "\n",
    "\n",
    "<strong>6:</strong>&nbsp;&nbsp;&nbsp;&nbsp;&nbsp;&nbsp;&nbsp;&nbsp;&nbsp;&nbsp; <code>form</code> new point $\\mathbf{w}^k = \\mathbf{w}^{k-1} + \\mathbf{d}^k$ <br>\n",
    "\n",
    "\n",
    "<strong>7:</strong>&nbsp;&nbsp;&nbsp;&nbsp;&nbsp;&nbsp;&nbsp;&nbsp;&nbsp;&nbsp; <code>if</code> $g\\left(\\mathbf{w}^k\\right) > g\\left(\\mathbf{w}^{k-1}\\right)$  <br>\n",
    "\n",
    "<strong>8:</strong>&nbsp;&nbsp;&nbsp;&nbsp;&nbsp;&nbsp;&nbsp;&nbsp;&nbsp;&nbsp;&nbsp;&nbsp;&nbsp;&nbsp;&nbsp;&nbsp; **output:** $\\mathbf{w}^{k-1}$, <code>break</code><br>\n",
    "\n",
    "\n",
    "\n",
    "<strong>9:</strong>&nbsp;&nbsp; **output:** $\\mathbf{w}^{K}$ <br>\n",
    "\n",
    "<hr style=\"height:1px;border:none;color:#555;background-color:#555;\">\n",
    "</p>\n"
   ]
  },
  {
   "cell_type": "markdown",
   "metadata": {},
   "source": [
    "### Example\n",
    "\n",
    "#### <span style=\"color:#a50e3e;\">Example. </span> Applying Q-learning to Gridworld"
   ]
  },
  {
   "cell_type": "markdown",
   "metadata": {
    "collapsed": true
   },
   "source": [
    "### Image\n",
    "<p><img src=\"../../demo_images/RL_images/difference_maze.png\" width=\"65%\" height=\"65%\"/></p>"
   ]
  },
  {
   "cell_type": "markdown",
   "metadata": {},
   "source": [
    "### ML Refined outro\n",
    "\n",
    "<blockquote style=\"border-left: 5px solid; border-left-color: #ccc; background: white;\"><p>The content of this notebook is supplementary material for the textbook Machine Learning Refined (Cambridge University Press, 2016). Visit <a href=\"http://mlrefined.com\">http://mlrefined.com</a> for free chapter downloads and tutorials, and <a href=\"https://www.amazon.com/Machine-Learning-Refined-Foundations-Applications/dp/1107123526/ref=sr_1_1?ie=UTF8&amp;qid=1474491657&amp;sr=8-1&amp;keywords=machine+learning+refined\">our Amazon site</a> for details regarding a hard copy of the text.</p>\n",
    "</blockquote>"
   ]
  }
 ],
 "metadata": {
  "anaconda-cloud": {},
  "kernelspec": {
   "display_name": "Python 3",
   "language": "python",
   "name": "python3"
  },
  "language_info": {
   "codemirror_mode": {
    "name": "ipython",
    "version": 3
   },
   "file_extension": ".py",
   "mimetype": "text/x-python",
   "name": "python",
   "nbconvert_exporter": "python",
   "pygments_lexer": "ipython3",
   "version": "3.5.0"
  },
  "toc": {
   "colors": {
    "hover_highlight": "#DAA520",
    "navigate_num": "#000000",
    "navigate_text": "#333333",
    "running_highlight": "#FF0000",
    "selected_highlight": "#FFD700",
    "sidebar_border": "#EEEEEE",
    "wrapper_background": "#FFFFFF"
   },
   "moveMenuLeft": true,
   "nav_menu": {
    "height": "214px",
    "width": "252px"
   },
   "navigate_menu": true,
   "number_sections": false,
   "sideBar": true,
   "threshold": 4,
   "toc_cell": false,
   "toc_section_display": "block",
   "toc_window_display": false,
   "widenNotebook": false
  }
 },
 "nbformat": 4,
 "nbformat_minor": 1
}

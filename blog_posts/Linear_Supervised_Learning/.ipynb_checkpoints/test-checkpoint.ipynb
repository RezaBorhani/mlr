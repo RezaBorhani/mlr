{
 "cells": [
  {
   "cell_type": "markdown",
   "metadata": {},
   "source": [
    "## Linear Supervised Learning Series"
   ]
  },
  {
   "cell_type": "markdown",
   "metadata": {},
   "source": [
    "# TEST"
   ]
  },
  {
   "cell_type": "markdown",
   "metadata": {},
   "source": [
    "with the separating hyperplane falling out naturally where this logistic function pierces the $y = 0$ plane.  Specifically, we saw how the decision boundary was formally given as a hyperplane\n",
    "\n",
    "\\begin{equation}\n",
    "w_0+\\mathbf{x}^{T}\\mathbf{w}^{\\,} = 0\n",
    "\\end{equation}\n",
    "\n",
    "In separating the two classes we saw how this implied - when hyperplane parameters $w_0$ and $\\mathbf{w}$ were chosen well - that for most points in the dataset, those from class $+1$ lie on the positive side of the hyperplane while those with label $-1$ lie on the negative side of it, i.e.,\n",
    "\n",
    "\\begin{equation}\n",
    "\\begin{array}{cc}\n",
    "w_0+\\mathbf{x}_{p}^{T}\\mathbf{w}>0 & \\,\\,\\,\\,\\text{if} \\,\\,\\, y_{p}=+1\\\\\n",
    "w_0+\\mathbf{x}_{p}^{T}\\mathbf{w}<0 & \\,\\,\\,\\,\\text{if} \\,\\,\\, y_{p}=-1\n",
    "\\end{array}\n",
    "\\end{equation}\n"
   ]
  },
  {
   "cell_type": "markdown",
   "metadata": {},
   "source": [
    "While the perceptron approach works within the same framework, its approach to determining the decision boundary is more direct.  With the perceptron we aim to directly determine the decision boundary by building a cost function based on these ideal properties, and whose minimum provides optimal weights that reflect these properties as best as possible.  "
   ]
  },
  {
   "cell_type": "markdown",
   "metadata": {},
   "source": [
    "<figure>\n",
    "  <img src= '../../mlrefined_images/superlearn_images/Fig_4_1.png' width=\"80%\" height=\"80%\" alt=\"\"/>\n",
    "  <figcaption>   \n",
    "<strong>Figure 1:</strong> <em> With the perceptron we aim to more directly\n",
    " learn the linear decision boundary $w_0+\\mathbf{x}^{T}\\mathbf{w}=0$ (shown\n",
    "here in black) to separate two classes of data, colored red (class $+1$) and blue (class $-1$), by dividing the input space into a red half-space where $w_0+\\mathbf{x}^{T}\\mathbf{w}>0$,\n",
    "and a blue half-space where $w_0+\\mathbf{x}^{T}\\mathbf{w}<0$. (left\n",
    "panel) A linearly separable dataset where it is possible to learn\n",
    "a hyperplane to perfectly separate the two classes. (right panel)\n",
    "A dataset with two overlapping classes. Although the distribution\n",
    "of data does not allow for perfect linear separation, the perceptron still aims to find\n",
    "a hyperplane that minimizes the number of misclassified points\n",
    "that end up in the wrong half-space.</em>  </figcaption> \n",
    "</figure>"
   ]
  },
  {
   "cell_type": "markdown",
   "metadata": {},
   "source": [
    "Combining the ideal conditions above - much as we did when deriving how to predict the label value of a point with a trained logistic regressor -  we can consolidate the ideal decision boundary conditions describing both classes below in a single equation as\n",
    "\n",
    "\\begin{equation}\n",
    "-y_{p}\\left(w_0+\\mathbf{x}_{p}^{T}\\mathbf{w}\\right)<0\n",
    "\\end{equation}\n",
    "\n",
    "Notice we can do so specifically because we chose the label values $y_p \\in \\{-1,+1\\}$.  Likewise by taking the maximum of this quantity and zero we can then write this condition, which states that a hyperplane correctly classifies the point $\\mathbf{x}_{p}$, equivalently as\n",
    "\n",
    "\\begin{equation}\n",
    "\\text{max}\\left(0,\\,-y_{p}\\left(w_0+\\mathbf{x}_{p}^{T}\\mathbf{w}\\right)\\right)=0\n",
    "\\end{equation}"
   ]
  }
 ],
 "metadata": {
  "kernelspec": {
   "display_name": "Python 3",
   "language": "python",
   "name": "python3"
  },
  "language_info": {
   "codemirror_mode": {
    "name": "ipython",
    "version": 3
   },
   "file_extension": ".py",
   "mimetype": "text/x-python",
   "name": "python",
   "nbconvert_exporter": "python",
   "pygments_lexer": "ipython3",
   "version": "3.5.0"
  },
  "toc": {
   "colors": {
    "hover_highlight": "#DAA520",
    "navigate_num": "#000000",
    "navigate_text": "#333333",
    "running_highlight": "#FF0000",
    "selected_highlight": "#FFD700",
    "sidebar_border": "#EEEEEE",
    "wrapper_background": "#FFFFFF"
   },
   "moveMenuLeft": true,
   "nav_menu": {
    "height": "139px",
    "width": "252px"
   },
   "navigate_menu": true,
   "number_sections": false,
   "sideBar": true,
   "threshold": 4,
   "toc_cell": false,
   "toc_section_display": "block",
   "toc_window_display": false,
   "widenNotebook": false
  }
 },
 "nbformat": 4,
 "nbformat_minor": 2
}

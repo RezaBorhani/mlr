{
 "cells": [
  {
   "cell_type": "markdown",
   "metadata": {},
   "source": [
    "### QuickSort"
   ]
  },
  {
   "cell_type": "markdown",
   "metadata": {},
   "source": [
    "QuickSort is a popular recursive algorithm used for sorting a list or array of numbers. Like any other sorting algorithm, QuickSort takes in an unsorted list, e.g.,\n",
    "\n",
    "$$a = [18,25,10,33,16,75,50,14]$$\n",
    "\n",
    "and returns its sorted version \n",
    "\n",
    "$$a_{\\text{ sorted}} = [10, 14, 16, 18, 25, 33, 50, 75]$$\n",
    "\n",
    "To see how QuickSort works, imagine for a moment that you have coded a sub-routine that takes in any list and returns as output, a shuffled version of it wherein the first element of the input list is now placed in its correct position. For example, with the list $a$ given above as input your sub-routine should return a list that has the first element of $a$ - that is $18$ - in its fourth position\n",
    "\n",
    "$$[?, ?, ?, 18, ?, ?, ?, ?]$$\n",
    "\n",
    "At this point it is not important where other elements of the list end up! We only need to make sure that $18$ ends up in its correct post-sort position. \n",
    "\n",
    "Two questions: (1) how difficult is it to code such a sub-routine? and (2) Having coded one, how will it help us sort the enire list?\n",
    "\n",
    "Let's answer the first question first: notice all our sub-routine needs to do is place all elements of $a$ that are smaller (or equal to) $a[0]$ before $a[0]$, and those greater than $a[0]$ after it, as in the following list\n",
    "\n",
    "$$\\left[\\begin{array}{ccc}\n",
    "\\text{all elements of }a\\textbf{ smaller } \\text{than or equal to }a\\left[0\\right], & a\\left[0\\right], & \\text{all elements of }a \\textbf{ greater } \\text{than }a\\left[0\\right]\\end{array}\\right]$$\n",
    "\n",
    "Take a moment to verify that the simple sub-routine below does exactly that. "
   ]
  },
  {
   "cell_type": "code",
   "execution_count": 47,
   "metadata": {
    "collapsed": true
   },
   "outputs": [],
   "source": [
    "def my_sub_routine (a):   \n",
    "    return [i for i in a[1:] if i <= a[0]] + [a[0]] + [i for i in a[1:] if i > a[0]]"
   ]
  },
  {
   "cell_type": "code",
   "execution_count": 48,
   "metadata": {},
   "outputs": [
    {
     "data": {
      "text/plain": [
       "[10, 16, 14, 18, 25, 33, 75, 50]"
      ]
     },
     "execution_count": 48,
     "metadata": {},
     "output_type": "execute_result"
    }
   ],
   "source": [
    "a = [18,25,10,33,16,75,50,14]\n",
    "my_sub_routine(a)"
   ]
  },
  {
   "cell_type": "markdown",
   "metadata": {},
   "source": [
    "Now to the second question: how does this help sort the entire list?\n",
    "Well, we know that $a[0]$ is already in its correct position. So we can focus on the sub-lists to the left and right of $a[0]$ - let's call them $b$ and $c$\n",
    "\n",
    "$$\\left[\\begin{array}{ccc}\n",
    "b, & a\\left[0\\right], & c\\end{array}\\right]$$\n",
    "\n",
    "Applying our simple sub-routine again, this time to both $b$ and $c$, will result in a list that looks like \n",
    "\n",
    "$$\\left[\\begin{array}{ccccccc}\n",
    "\\text{all }b\\left[i\\right]\\leq b\\left[0\\right], & b\\left[0\\right], & \\text{all }b\\left[i\\right]>b\\left[0\\right], & a\\left[0\\right], & \\text{all }c\\left[i\\right]\\leq c\\left[0\\right], & c\\left[0\\right], & \\text{all }c\\left[i\\right]>c\\left[0\\right]\\end{array}\\right]$$\n",
    "\n",
    "where, in addition to $a[0]$, we now have both $b[0]$ and $c[0]$ in their correct positions as well. \n",
    "\n",
    "It should be clear by now what to do next: we recurisively apply our sub-routine to the sub-lists created on the left and right of the first element on the list. This algorithm, like any other recursion, has to stop at some point. In this case we stop when a sub-list contains only one element in which case no further sorting is required and we can simply return that element. In the Python cell below we show the full QuickSort algorithm where we have added this stopping condition. "
   ]
  },
  {
   "cell_type": "code",
   "execution_count": 49,
   "metadata": {
    "collapsed": true
   },
   "outputs": [],
   "source": [
    "def QuickSort (a): \n",
    "    if len(a) <= 1:\n",
    "        return a\n",
    "    else:\n",
    "        return QuickSort([i for i in a[1:] if i <= a[0]]) + [a[0]] + QuickSort([i for i in a[1:] if i > a[0]])"
   ]
  },
  {
   "cell_type": "code",
   "execution_count": 50,
   "metadata": {},
   "outputs": [
    {
     "data": {
      "text/plain": [
       "[10, 14, 16, 18, 25, 33, 50, 75]"
      ]
     },
     "execution_count": 50,
     "metadata": {},
     "output_type": "execute_result"
    }
   ],
   "source": [
    "QuickSort([18,25,10,33,16,75,50,14])"
   ]
  },
  {
   "cell_type": "markdown",
   "metadata": {},
   "source": [
    "Notice how QuickSort is called recursively on the sub-lists to the left and right of $a[0]$. "
   ]
  },
  {
   "cell_type": "code",
   "execution_count": null,
   "metadata": {
    "collapsed": true
   },
   "outputs": [],
   "source": []
  }
 ],
 "metadata": {
  "kernelspec": {
   "display_name": "Python 3",
   "language": "python",
   "name": "python3"
  },
  "language_info": {
   "codemirror_mode": {
    "name": "ipython",
    "version": 3
   },
   "file_extension": ".py",
   "mimetype": "text/x-python",
   "name": "python",
   "nbconvert_exporter": "python",
   "pygments_lexer": "ipython3",
   "version": "3.5.3"
  },
  "toc": {
   "colors": {
    "hover_highlight": "#DAA520",
    "navigate_num": "#000000",
    "navigate_text": "#333333",
    "running_highlight": "#FF0000",
    "selected_highlight": "#FFD700",
    "sidebar_border": "#EEEEEE",
    "wrapper_background": "#FFFFFF"
   },
   "moveMenuLeft": true,
   "nav_menu": {
    "height": "30px",
    "width": "252px"
   },
   "navigate_menu": true,
   "number_sections": true,
   "sideBar": true,
   "threshold": 4,
   "toc_cell": false,
   "toc_section_display": "block",
   "toc_window_display": false,
   "widenNotebook": false
  }
 },
 "nbformat": 4,
 "nbformat_minor": 2
}
